{
 "cells": [
  {
   "cell_type": "code",
   "execution_count": 1,
   "metadata": {},
   "outputs": [],
   "source": [
    "import re\n",
    "import pandas as pd \n",
    "import numpy as np \n",
    "import matplotlib.pyplot as plt \n",
    "import seaborn as sns\n",
    "import string\n",
    "import nltk\n",
    "import warnings \n",
    "import csv"
   ]
  },
  {
   "cell_type": "code",
   "execution_count": 5,
   "metadata": {},
   "outputs": [],
   "source": [
    "warnings.filterwarnings(\"ignore\", category=DeprecationWarning)\n",
    "\n",
    "%matplotlib inline\n",
    "\n",
    "\n",
    "\n",
    "train  = pd.read_csv('makeinindia_tweets.csv')\n",
    "#test = pd.read_csv('test_tweets_anuFYb8.csv')"
   ]
  },
  {
   "cell_type": "code",
   "execution_count": 7,
   "metadata": {},
   "outputs": [
    {
     "data": {
      "text/html": [
       "<div>\n",
       "<style scoped>\n",
       "    .dataframe tbody tr th:only-of-type {\n",
       "        vertical-align: middle;\n",
       "    }\n",
       "\n",
       "    .dataframe tbody tr th {\n",
       "        vertical-align: top;\n",
       "    }\n",
       "\n",
       "    .dataframe thead th {\n",
       "        text-align: right;\n",
       "    }\n",
       "</style>\n",
       "<table border=\"1\" class=\"dataframe\">\n",
       "  <thead>\n",
       "    <tr style=\"text-align: right;\">\n",
       "      <th></th>\n",
       "      <th>user</th>\n",
       "      <th>id</th>\n",
       "      <th>date</th>\n",
       "      <th>tweets</th>\n",
       "      <th>tidy_tweets</th>\n",
       "      <th>target</th>\n",
       "    </tr>\n",
       "  </thead>\n",
       "  <tbody>\n",
       "    <tr>\n",
       "      <th>0</th>\n",
       "      <td>makeinindia</td>\n",
       "      <td>1093863238649950210</td>\n",
       "      <td>2019-02-08 13:24:53</td>\n",
       "      <td>b'Investments in Electronics Manufacturing (Co...</td>\n",
       "      <td>NaN</td>\n",
       "      <td>NaN</td>\n",
       "    </tr>\n",
       "    <tr>\n",
       "      <th>1</th>\n",
       "      <td>makeinindia</td>\n",
       "      <td>1093863030331502592</td>\n",
       "      <td>2019-02-08 13:24:04</td>\n",
       "      <td>b'Powering up development -- in the 2017-18 bu...</td>\n",
       "      <td>NaN</td>\n",
       "      <td>NaN</td>\n",
       "    </tr>\n",
       "    <tr>\n",
       "      <th>2</th>\n",
       "      <td>makeinindia</td>\n",
       "      <td>1093862552205967360</td>\n",
       "      <td>2019-02-08 13:22:10</td>\n",
       "      <td>b'Presently, the PMP has been implemented on B...</td>\n",
       "      <td>NaN</td>\n",
       "      <td>NaN</td>\n",
       "    </tr>\n",
       "    <tr>\n",
       "      <th>3</th>\n",
       "      <td>makeinindia</td>\n",
       "      <td>1093862128237375489</td>\n",
       "      <td>2019-02-08 13:20:29</td>\n",
       "      <td>b'Presently, the PMP has been implemented on B...</td>\n",
       "      <td>NaN</td>\n",
       "      <td>NaN</td>\n",
       "    </tr>\n",
       "    <tr>\n",
       "      <th>4</th>\n",
       "      <td>makeinindia</td>\n",
       "      <td>1093861979800961025</td>\n",
       "      <td>2019-02-08 13:19:53</td>\n",
       "      <td>b'The production value of Light Emitting Diode...</td>\n",
       "      <td>NaN</td>\n",
       "      <td>NaN</td>\n",
       "    </tr>\n",
       "  </tbody>\n",
       "</table>\n",
       "</div>"
      ],
      "text/plain": [
       "          user                   id                 date  \\\n",
       "0  makeinindia  1093863238649950210  2019-02-08 13:24:53   \n",
       "1  makeinindia  1093863030331502592  2019-02-08 13:24:04   \n",
       "2  makeinindia  1093862552205967360  2019-02-08 13:22:10   \n",
       "3  makeinindia  1093862128237375489  2019-02-08 13:20:29   \n",
       "4  makeinindia  1093861979800961025  2019-02-08 13:19:53   \n",
       "\n",
       "                                              tweets  tidy_tweets  target  \n",
       "0  b'Investments in Electronics Manufacturing (Co...          NaN     NaN  \n",
       "1  b'Powering up development -- in the 2017-18 bu...          NaN     NaN  \n",
       "2  b'Presently, the PMP has been implemented on B...          NaN     NaN  \n",
       "3  b'Presently, the PMP has been implemented on B...          NaN     NaN  \n",
       "4  b'The production value of Light Emitting Diode...          NaN     NaN  "
      ]
     },
     "execution_count": 7,
     "metadata": {},
     "output_type": "execute_result"
    }
   ],
   "source": [
    "train.head()"
   ]
  },
  {
   "cell_type": "code",
   "execution_count": 8,
   "metadata": {},
   "outputs": [],
   "source": [
    "import pandas as pd\n",
    "f=pd.read_csv(\"makeinindia_tweets.csv\")\n",
    "keep_col = ['tweets']\n",
    "new_f = f[keep_col]\n",
    "new_f.to_csv(\"newFile.csv\", index=False)"
   ]
  },
  {
   "cell_type": "code",
   "execution_count": null,
   "metadata": {},
   "outputs": [],
   "source": []
  }
 ],
 "metadata": {
  "kernelspec": {
   "display_name": "Python 3",
   "language": "python",
   "name": "python3"
  },
  "language_info": {
   "codemirror_mode": {
    "name": "ipython",
    "version": 3
   },
   "file_extension": ".py",
   "mimetype": "text/x-python",
   "name": "python",
   "nbconvert_exporter": "python",
   "pygments_lexer": "ipython3",
   "version": "3.6.8"
  }
 },
 "nbformat": 4,
 "nbformat_minor": 2
}
